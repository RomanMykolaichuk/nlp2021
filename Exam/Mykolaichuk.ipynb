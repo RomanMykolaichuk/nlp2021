{
  "nbformat": 4,
  "nbformat_minor": 0,
  "metadata": {
    "colab": {
      "name": "Mykolaichuk.ipynb",
      "provenance": [],
      "toc_visible": true,
      "authorship_tag": "ABX9TyO7KvWdTFdxeK6YXghUVJxH",
      "include_colab_link": true
    },
    "kernelspec": {
      "name": "python3",
      "display_name": "Python 3"
    },
    "language_info": {
      "name": "python"
    }
  },
  "cells": [
    {
      "cell_type": "markdown",
      "metadata": {
        "id": "view-in-github",
        "colab_type": "text"
      },
      "source": [
        "<a href=\"https://colab.research.google.com/github/RomanMykolaichuk/nlp2021/blob/master/Exam/Mykolaichuk.ipynb\" target=\"_parent\"><img src=\"https://colab.research.google.com/assets/colab-badge.svg\" alt=\"Open In Colab\"/></a>"
      ]
    },
    {
      "cell_type": "markdown",
      "source": [
        "# Практичне завдання з дисципліни Методи обробки природномовної інформації\n",
        "\n",
        "Варіант 111\n",
        "\n",
        "\n",
        "Завдання:\n",
        "\n",
        "Розробити Jupyter Notebook для вирішення завдання класифікації тексту\n",
        "на основі набору даних:\n",
        "[link]\n",
        "\n",
        "Забезпечити виконання наступних етапів:\n",
        "\n",
        "1. Завантаження та попередній аналіз даних.\n",
        "2. Створення тренувального та тестувального наборів даних.\n",
        "3. Попередню оцінку точності моделі за допомогою методу Naive Bayes.\n",
        "4. Вирішення задачі класифікації за допомогою методу [method].\n",
        "5. Графічне відображення тренування моделі.\n",
        "6. Порівняння результатів, отриманих у п.п. 3,4\n",
        "7. Висновки.\n",
        "\n"
      ],
      "metadata": {
        "id": "PjeAa7ztLk6v"
      }
    },
    {
      "cell_type": "code",
      "source": [
        ""
      ],
      "metadata": {
        "id": "GVoRtD3HMrlX"
      },
      "execution_count": null,
      "outputs": []
    },
    {
      "cell_type": "markdown",
      "source": [
        "# 1. Завантаження та попередній аналіз даних.\n"
      ],
      "metadata": {
        "id": "6vHKHAAjMDxV"
      }
    },
    {
      "cell_type": "code",
      "source": [
        "# імпортуємо необхідні бібліотеки\n",
        "import tensorflow \n"
      ],
      "metadata": {
        "id": "SDVUmhJhMfFJ"
      },
      "execution_count": null,
      "outputs": []
    },
    {
      "cell_type": "markdown",
      "source": [
        "# 2. Створення тренувального та тестувального наборів даних.\n",
        "\n"
      ],
      "metadata": {
        "id": "c8IIlPlWL1hZ"
      }
    },
    {
      "cell_type": "markdown",
      "source": [
        ""
      ],
      "metadata": {
        "id": "1TRR6P-iMeJz"
      }
    },
    {
      "cell_type": "code",
      "source": [
        ""
      ],
      "metadata": {
        "id": "Xr71jgm2L0xm"
      },
      "execution_count": null,
      "outputs": []
    }
  ]
}