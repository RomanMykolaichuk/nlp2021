{
 "cells": [
  {
   "cell_type": "markdown",
   "metadata": {},
   "source": [
    "# Розподіл варіантів для іспиту"
   ]
  },
  {
   "cell_type": "markdown",
   "metadata": {},
   "source": [
    "### Завантажуємо текст варіанту"
   ]
  },
  {
   "cell_type": "code",
   "execution_count": 1,
   "metadata": {},
   "outputs": [],
   "source": [
    "\n",
    "with open('TaskSample.txt', encoding = 'utf-8', mode = 'r') as f:\n",
    "    lines=f.readlines()\n",
    "text = ''.join(lines)"
   ]
  },
  {
   "cell_type": "markdown",
   "metadata": {},
   "source": [
    "### Створюємо масив варіантів"
   ]
  },
  {
   "cell_type": "code",
   "execution_count": 2,
   "metadata": {},
   "outputs": [],
   "source": [
    "link1 = \"https://drive.google.com/drive/folders/1spLPfYqLAwHos25gHHipLx0y15RCS_dY?usp=sharing\"\n",
    "link2 = \"https://drive.google.com/drive/folders/1cYLsyazwxMUSICumvIhv5jGJe6K7iAHa?usp=sharing\"\n",
    "\n",
    "links=[link1,link2]\n",
    "\n",
    "methods=['Feed-forward model',\n",
    "'LSTM model', \n",
    "'GRU model',\n",
    "'Bidirectional-LSTM model',\n",
    "'Bidirectional-GRU model',\n",
    "'1D Convolutional model']\n",
    "\n",
    "variants = []\n",
    "\n",
    "for i in range(len(links)):\n",
    "    for j in range(len(methods)):\n",
    "        variants.append((links[i],methods[j]))"
   ]
  },
  {
   "cell_type": "markdown",
   "metadata": {},
   "source": [
    "### Формуємо розподіл варіантів"
   ]
  },
  {
   "cell_type": "code",
   "execution_count": 7,
   "metadata": {},
   "outputs": [
    {
     "data": {
      "text/plain": [
       "array([ 9,  8,  6,  0,  4,  2,  3, 11,  5, 10,  1,  7])"
      ]
     },
     "execution_count": 7,
     "metadata": {},
     "output_type": "execute_result"
    }
   ],
   "source": [
    "import numpy as np \n",
    "\n",
    "seed=7538\n",
    "\n",
    "variant_distribution = np.array(range(len(variants)))\n",
    "np.random.seed(seed)\n",
    "np.random.shuffle(variant_distribution)\n",
    "variant_distribution"
   ]
  },
  {
   "cell_type": "markdown",
   "metadata": {},
   "source": [
    "### Генеруємо варіанти"
   ]
  },
  {
   "cell_type": "code",
   "execution_count": 94,
   "metadata": {},
   "outputs": [],
   "source": [
    "quiz=''\n",
    "for i in range(len(variant_distribution)):\n",
    "    index=variant_distribution[i]\n",
    "    quiz+=text.format(i+1,variants[index][0],variants[index][1])\n"
   ]
  },
  {
   "cell_type": "markdown",
   "metadata": {},
   "source": [
    "### Записуємо у файл"
   ]
  },
  {
   "cell_type": "code",
   "execution_count": 95,
   "metadata": {},
   "outputs": [],
   "source": [
    "from datetime import datetime\n",
    "now=datetime.now().strftime(\"_%b-%d-%Y\")\n",
    "\n",
    "filename = 'TasksNLP'+now+'.txt'\n",
    "\n",
    "tasks=open(filename,'w', encoding='utf8')\n",
    "tasks.write(quiz)\n",
    "tasks.close()"
   ]
  }
 ],
 "metadata": {
  "interpreter": {
   "hash": "45c35a36beb3d1c2f42a56be9142246513f9d24015e8e4e22f7c95d5b06ff02e"
  },
  "kernelspec": {
   "display_name": "Python 3.7.11 64-bit ('tutorialspoint': conda)",
   "language": "python",
   "name": "python3"
  },
  "language_info": {
   "codemirror_mode": {
    "name": "ipython",
    "version": 3
   },
   "file_extension": ".py",
   "mimetype": "text/x-python",
   "name": "python",
   "nbconvert_exporter": "python",
   "pygments_lexer": "ipython3",
   "version": "3.7.11"
  },
  "orig_nbformat": 4
 },
 "nbformat": 4,
 "nbformat_minor": 2
}
