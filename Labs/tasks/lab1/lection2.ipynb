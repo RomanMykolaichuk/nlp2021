{
 "cells": [
  {
   "cell_type": "markdown",
   "source": [
    "# Lection2\r\n",
    "\r\n",
    "![lection logo](http://kinofilms.ua/images/videos/mainpage/14698.jpg)\r\n",
    "\r\n",
    "## Basic Frameworks\r\n",
    "\r\n",
    "1. ML Roadmap\r\n",
    "2. Numpay\r\n",
    "3. Pandas\r\n",
    "4. Matplotlib\r\n",
    "5. Sklearn\r\n",
    "6. TensorFlow\r\n"
   ],
   "metadata": {}
  },
  {
   "cell_type": "markdown",
   "source": [
    "## ML Roadmap\r\n",
    "\r\n",
    "<img src=\"https://www.smartdatacollective.com/wp-content/uploads/2021/06/machine-learning-helps-life-insurance-scaled.jpg\" width=\"512\">\r\n",
    "\r\n",
    "[Daniel Bourke Roadmap](https://whimsical.com/machine-learning-roadmap-2020-CA7f3ykvXpnJ9Az32vYXva)"
   ],
   "metadata": {}
  },
  {
   "cell_type": "markdown",
   "source": [
    "## Numpy\r\n",
    "![Numpy](https://upload.wikimedia.org/wikipedia/commons/thumb/3/31/NumPy_logo_2020.svg/512px-NumPy_logo_2020.svg.png)\r\n",
    "\r\n",
    "[Official site](https://numpy.org/)\r\n",
    "\r\n",
    "\r\n",
    "[Youtube tutorial1](https://www.youtube.com/watch?v=QUT1VHiLmmI) & [Code](https://github.com/KeithGalli/NumPy/blob/master/NumPy%20Tutorial.ipynb)\r\n",
    "\r\n",
    "\r\n",
    "[Youtube tutorial2](https://www.youtube.com/watch?v=A2ru857C8Vw&t=30s) & [Code](https://github.com/mujib2020/Numpy-Tutorial)\r\n",
    "\r\n",
    "\r\n",
    "\r\n",
    "\r\n",
    "[Cheat Sheets](https://blog.finxter.com/collection-10-best-numpy-cheat-sheets-every-python-coder-must-own/)\r\n",
    "\r\n",
    "\r\n",
    "\r\n",
    "\r\n"
   ],
   "metadata": {}
  },
  {
   "cell_type": "markdown",
   "source": [
    "## Pandas\r\n",
    "\r\n",
    "![pandas](pandas1.jpg)\r\n",
    "\r\n",
    "[Official site](https://pandas.pydata.org/)\r\n",
    "\r\n",
    "\r\n",
    "[Youtube tutorial1](https://www.youtube.com/watch?v=tRKeLrwfUgU) & [Code](https://github.com/nicknochnack/Pandasin20Minutes)\r\n",
    "\r\n",
    "[Youtube tutorial2](https://www.youtube.com/watch?v=vmEHCJofslg&t=246s) & [Code](https://github.com/KeithGalli/pandas)\r\n",
    "\r\n",
    "\r\n",
    "[Youtube short tutorial3](https://www.youtube.com/watch?v=iGFdh6_FePU)\r\n",
    "\r\n",
    "\r\n",
    "\r\n",
    "[Cheat Sheets](https://blog.finxter.com/pandas-cheat-sheets/)"
   ],
   "metadata": {}
  },
  {
   "cell_type": "markdown",
   "source": [
    "## Matplotlib\r\n",
    "\r\n",
    "<img src=\"https://matplotlib.org/3.2.2/_static/logo2_compressed.svg\" width=\"400\">\r\n",
    "\r\n",
    "\r\n",
    "[Official site](https://matplotlib.org/stable/index.html)\r\n",
    "\r\n",
    "\r\n",
    "[Youtube tutorial1](https://www.youtube.com/watch?v=3Xc3CA655Y4) & [Code](https://github.com/KeithGalli/matplotlib_tutorial/)\r\n",
    "\r\n",
    "\r\n",
    "[Cheat Sheets](https://blog.finxter.com/best-matplotlib-cheat-sheet/)\r\n"
   ],
   "metadata": {}
  },
  {
   "cell_type": "markdown",
   "source": [
    "<img src=\"https://img.favpng.com/13/13/20/scikit-learn-python-scikit-image-logo-brand-png-favpng-DiDpZ1ewwNabVHftX6ieU1Wx4.jpg\" width=300>\r\n",
    "\r\n",
    "[Scikit-learn Framework](https://scikit-learn.org/stable/#) & [Cheat Sheet](https://www.datacamp.com/community/blog/scikit-learn-cheat-sheet)"
   ],
   "metadata": {}
  },
  {
   "cell_type": "markdown",
   "source": [
    "<img src=\"http://s2.glbimg.com/gs1JBY23XoQL-6HdMNFP2Ni9EJI=/695x0/s.glbimg.com/po/tt2/f/original/2015/11/10/tensorflow-google.png\" width=300>\r\n",
    "\r\n",
    "\r\n",
    "[Tensorflow documentation](https://www.tensorflow.org/api_docs/python/tf)\r\n",
    "\r\n",
    "[Daniel Bourke github repo](https://github.com/mrdbourke/tensorflow-deep-learning/)"
   ],
   "metadata": {}
  }
 ],
 "metadata": {
  "orig_nbformat": 4,
  "language_info": {
   "name": "python",
   "version": "3.7.11",
   "mimetype": "text/x-python",
   "codemirror_mode": {
    "name": "ipython",
    "version": 3
   },
   "pygments_lexer": "ipython3",
   "nbconvert_exporter": "python",
   "file_extension": ".py"
  },
  "kernelspec": {
   "name": "python3",
   "display_name": "Python 3.7.11 64-bit ('tutorialspoint': conda)"
  },
  "interpreter": {
   "hash": "45c35a36beb3d1c2f42a56be9142246513f9d24015e8e4e22f7c95d5b06ff02e"
  }
 },
 "nbformat": 4,
 "nbformat_minor": 2
}